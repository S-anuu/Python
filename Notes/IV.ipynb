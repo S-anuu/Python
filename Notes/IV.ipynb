{
 "cells": [
  {
   "cell_type": "markdown",
   "metadata": {},
   "source": [
    "<h4>Dictionary</h4>\n",
    "<p>A collection of {key:value} pairs \n",
    "<p>Ordered and changeable. No duplicates"
   ]
  },
  {
   "cell_type": "code",
   "execution_count": 26,
   "metadata": {},
   "outputs": [
    {
     "name": "stdout",
     "output_type": "stream",
     "text": [
      "['__class__', '__class_getitem__', '__contains__', '__delattr__', '__delitem__', '__dir__', '__doc__', '__eq__', '__format__', '__ge__', '__getattribute__', '__getitem__', '__getstate__', '__gt__', '__hash__', '__init__', '__init_subclass__', '__ior__', '__iter__', '__le__', '__len__', '__lt__', '__ne__', '__new__', '__or__', '__reduce__', '__reduce_ex__', '__repr__', '__reversed__', '__ror__', '__setattr__', '__setitem__', '__sizeof__', '__str__', '__subclasshook__', 'clear', 'copy', 'fromkeys', 'get', 'items', 'keys', 'pop', 'popitem', 'setdefault', 'update', 'values']\n",
      "Kathmandu\n",
      "That capital does not exist\n",
      "{'Nepal': 'Kathmandu', 'India': 'New Delhi', 'China': 'Beijing', 'USA': 'Moscow', 'Germany': 'Berlin'}\n",
      "{'Nepal': 'Kathmandu', 'India': 'New Delhi', 'China': 'Beijing', 'USA': 'Detroit', 'Germany': 'Berlin'}\n",
      "{'Nepal': 'Kathmandu', 'India': 'New Delhi', 'USA': 'Detroit', 'Germany': 'Berlin'}\n",
      "{'Nepal': 'Kathmandu', 'India': 'New Delhi', 'USA': 'Detroit'}\n",
      "dict_keys(['Nepal', 'India', 'USA'])\n",
      "Nepal\n",
      "India\n",
      "USA\n",
      "dict_values(['Kathmandu', 'New Delhi', 'Detroit'])\n",
      "Kathmandu\n",
      "New Delhi\n",
      "Detroit\n",
      "dict_items([('Nepal', 'Kathmandu'), ('India', 'New Delhi'), ('USA', 'Detroit')])\n",
      "Nepal: Kathmandu\n",
      "India: New Delhi\n",
      "USA: Detroit\n"
     ]
    }
   ],
   "source": [
    "capitals = {'Nepal': 'Kathmandu',\n",
    "            'India': 'New Delhi',\n",
    "            'China': 'Beijing',\n",
    "            'USA': 'Moscow'\n",
    "            }\n",
    "\n",
    "print(dir(capitals))\n",
    "\n",
    "print(capitals.get('Nepal'))\n",
    "\n",
    "if capitals.get('Japan'):\n",
    "    print('That capital exist')\n",
    "else:\n",
    "    print('That capital does not exist' )\n",
    "\n",
    "capitals.update({'Germany': 'Berlin'})\n",
    "print(capitals)\n",
    "\n",
    "capitals.update({'USA': 'Detroit'})\n",
    "print(capitals)\n",
    "\n",
    "capitals.pop('China')\n",
    "print(capitals)\n",
    "\n",
    "capitals.popitem()\n",
    "print(capitals)\n",
    "\n",
    "#capitals.clear()\n",
    "\n",
    "keys = capitals.keys()\n",
    "print(keys)\n",
    "\n",
    "for key in capitals.keys():\n",
    "    print(key)\n",
    "\n",
    "values = capitals.values()\n",
    "print(values)\n",
    "\n",
    "for value in capitals.values():\n",
    "    print(value)\n",
    "\n",
    "items = capitals.items()\n",
    "print(items)\n",
    "\n",
    "for key, value in capitals.items():\n",
    "    print(f'{key}: {value}')"
   ]
  },
  {
   "cell_type": "markdown",
   "metadata": {},
   "source": [
    "<h4>Random Numbers</h4>\n"
   ]
  },
  {
   "cell_type": "code",
   "execution_count": 40,
   "metadata": {},
   "outputs": [
    {
     "name": "stdout",
     "output_type": "stream",
     "text": [
      "0.8489277692905055\n",
      "16\n"
     ]
    }
   ],
   "source": [
    "import random\n",
    "\n",
    "#print(help(random))\n",
    "\n",
    "low = 1\n",
    "high = 100\n",
    "\n",
    "number = random.randint(low, high)\n",
    "float_num = random.random()\n",
    "\n",
    "print(float_num)\n",
    "print(number)"
   ]
  },
  {
   "cell_type": "code",
   "execution_count": 42,
   "metadata": {},
   "outputs": [
    {
     "name": "stdout",
     "output_type": "stream",
     "text": [
      "paper\n"
     ]
    }
   ],
   "source": [
    "options = ('rock', 'paper', 'scissors')\n",
    "\n",
    "option = random.choice(options)\n",
    "print(option)"
   ]
  },
  {
   "cell_type": "code",
   "execution_count": 48,
   "metadata": {},
   "outputs": [
    {
     "name": "stdout",
     "output_type": "stream",
     "text": [
      "['3', 'Q', '9', '5', '8', '6', '4', 'A', 'J', '2', 'K', '7']\n"
     ]
    }
   ],
   "source": [
    "cards = ['2', '3', '4', '5', '6', '7', '8', '9', 'J','Q', 'K', 'A']\n",
    "\n",
    "random.shuffle(cards)\n",
    "print(cards)"
   ]
  },
  {
   "cell_type": "markdown",
   "metadata": {},
   "source": [
    "<h4>Function</h4>\n",
    "<p> A block of reusable code\n",
    "<p> Place () after the function name to invoke it"
   ]
  },
  {
   "cell_type": "code",
   "execution_count": 56,
   "metadata": {},
   "outputs": [
    {
     "name": "stdout",
     "output_type": "stream",
     "text": [
      "Happy Birthday Anu !!\n",
      "You are 22 years old.\n"
     ]
    }
   ],
   "source": [
    "def birthday(name, age):\n",
    "    print(f'Happy Birthday {name} !!')\n",
    "    print(f'You are {age} years old.')\n",
    "\n",
    "birthday('Anu', 22)\n"
   ]
  },
  {
   "cell_type": "code",
   "execution_count": 59,
   "metadata": {},
   "outputs": [
    {
     "name": "stdout",
     "output_type": "stream",
     "text": [
      "Hello Anu\n",
      "Your bill of Rs.200 is due: 01/01\n"
     ]
    }
   ],
   "source": [
    "def display_invoice(username, amount, due_date):\n",
    "    print(f'Hello {username}')\n",
    "    print(f'Your bill of Rs.{amount} is due: {due_date}')\n",
    "\n",
    "display_invoice('Anu', 200, \"01/01\")"
   ]
  },
  {
   "cell_type": "markdown",
   "metadata": {},
   "source": [
    "<h4>Return</h4>\n",
    "<p> Statement used to end a function and send a result back to the caller"
   ]
  },
  {
   "cell_type": "code",
   "execution_count": 62,
   "metadata": {},
   "outputs": [
    {
     "name": "stdout",
     "output_type": "stream",
     "text": [
      "3\n",
      "-1\n",
      "12\n",
      "0.75\n"
     ]
    }
   ],
   "source": [
    "def add(x, y):\n",
    "    z = x + y\n",
    "    return z\n",
    "\n",
    "def subtract(x,y):\n",
    "    z = x - y\n",
    "    return z\n",
    "\n",
    "def multiply(x,y):\n",
    "    z = x * y\n",
    "    return z\n",
    "\n",
    "def divide(x,y):\n",
    "    z = x / y\n",
    "    return z\n",
    "\n",
    "print(add(1,2))\n",
    "print(subtract(1,2))\n",
    "print(multiply(3,4))\n",
    "print(divide(3,4))"
   ]
  },
  {
   "cell_type": "code",
   "execution_count": 65,
   "metadata": {},
   "outputs": [
    {
     "name": "stdout",
     "output_type": "stream",
     "text": [
      "Anu Sapkota\n"
     ]
    }
   ],
   "source": [
    "def create_name(first, last):\n",
    "    first = first.capitalize()\n",
    "    last = last.capitalize()\n",
    "    \n",
    "    return first + \" \" + last\n",
    "\n",
    "full_name = create_name('anu', 'sapkota')\n",
    "print(full_name)"
   ]
  },
  {
   "cell_type": "markdown",
   "metadata": {},
   "source": [
    "<h4>Default Arg</h4>\n",
    "<p> A default value for certain parameters\n",
    "<p> Default is used when that argument is omitted\n",
    "<p> Makes your functions more flexible, reduces # of arguments\n",
    "<p> 1. positional, 2. Default, 3. Keyboard, 4. arbitrary "
   ]
  },
  {
   "cell_type": "code",
   "execution_count": 72,
   "metadata": {},
   "outputs": [
    {
     "name": "stdout",
     "output_type": "stream",
     "text": [
      "498.75\n"
     ]
    }
   ],
   "source": [
    "def net_price(list_price, discount=0, tax=0.05):\n",
    "    return list_price * ( 1 - discount) * (1 + tax)\n",
    "\n",
    "print(net_price(500, 0.05))"
   ]
  },
  {
   "cell_type": "code",
   "execution_count": 76,
   "metadata": {},
   "outputs": [
    {
     "name": "stdout",
     "output_type": "stream",
     "text": [
      "15\n",
      "16\n",
      "17\n",
      "18\n",
      "19\n",
      "20\n",
      "21\n",
      "22\n",
      "23\n",
      "24\n",
      "25\n",
      "26\n",
      "27\n",
      "28\n",
      "29\n",
      "30\n",
      "Done!\n"
     ]
    }
   ],
   "source": [
    "import time\n",
    "\n",
    "def count(end, start=0):\n",
    "    for x in range(start, end+1):\n",
    "        print(x)\n",
    "        time.sleep(1)\n",
    "    print('Done!')\n",
    "\n",
    "count(30, 15)"
   ]
  },
  {
   "cell_type": "markdown",
   "metadata": {},
   "source": [
    "<h4>Keyword Arguments</h4>\n",
    "<p> An argument preceded by an identifier \n",
    "<p> helps with readability\n",
    "<p> order of arguments doesn't matter\n"
   ]
  },
  {
   "cell_type": "code",
   "execution_count": 77,
   "metadata": {},
   "outputs": [
    {
     "name": "stdout",
     "output_type": "stream",
     "text": [
      "Hello Mr.Spongebob Squarepants\n"
     ]
    }
   ],
   "source": [
    "def hello(greeting, title, first, last):\n",
    "    print(f'{greeting} {title}{first} {last}')\n",
    "\n",
    "hello(\"Hello\", title=\"Mr.\", first=\"Spongebob\", last=\"Squarepants\")"
   ]
  },
  {
   "cell_type": "code",
   "execution_count": 79,
   "metadata": {},
   "outputs": [
    {
     "name": "stdout",
     "output_type": "stream",
     "text": [
      "1 2 3 4 5 6 7 8 9 10 1-2-3-4-5\n"
     ]
    }
   ],
   "source": [
    "for x in range(1, 11):\n",
    "    print(x, end=\" \")\n",
    "\n",
    "print('1', '2', '3', '4', '5', sep='-')"
   ]
  },
  {
   "cell_type": "code",
   "execution_count": 80,
   "metadata": {},
   "outputs": [
    {
     "name": "stdout",
     "output_type": "stream",
     "text": [
      "1-123-456-7896\n"
     ]
    }
   ],
   "source": [
    "def get_phone(country, area, first, last):\n",
    "    return f\"{country}-{area}-{first}-{last}\"\n",
    "\n",
    "phone_num = get_phone(country=1, area=123, first=456, last=7896)\n",
    "\n",
    "print(phone_num)"
   ]
  },
  {
   "cell_type": "markdown",
   "metadata": {},
   "source": [
    "<h4>Arbitrary Arguments</h4>\n",
    "<p>*args = allows you to pass multiple non-key arguments -> tuple\n",
    "<p>**kwargs = allows you to pass multiple keyword arguments -> dictionary\n",
    "<p> * -> unpacking operator"
   ]
  },
  {
   "cell_type": "code",
   "execution_count": 86,
   "metadata": {},
   "outputs": [
    {
     "name": "stdout",
     "output_type": "stream",
     "text": [
      "11\n"
     ]
    }
   ],
   "source": [
    "def add(*args):\n",
    "    total = 0\n",
    "    for arg in args:\n",
    "        total += arg\n",
    "    return total\n",
    "\n",
    "print(add(1,2,3,5))"
   ]
  },
  {
   "cell_type": "code",
   "execution_count": 88,
   "metadata": {},
   "outputs": [
    {
     "name": "stdout",
     "output_type": "stream",
     "text": [
      "Dr. Spongebob Squarepants III "
     ]
    }
   ],
   "source": [
    "def display_name(*args):\n",
    "    for arg in args:\n",
    "        print(arg, end=\" \")\n",
    "\n",
    "display_name(\"Dr.\", \"Spongebob\", \"Squarepants\", \"III\")"
   ]
  },
  {
   "cell_type": "code",
   "execution_count": 93,
   "metadata": {},
   "outputs": [
    {
     "name": "stdout",
     "output_type": "stream",
     "text": [
      "street: Arghau\n",
      "city: Pokhara\n",
      "district: Kaski\n",
      "zip: 33700\n"
     ]
    }
   ],
   "source": [
    "def print_address(**kwargs):\n",
    "    for key, value in kwargs.items():\n",
    "        print(f\"{key}: {value}\")\n",
    "\n",
    "print_address(street='Arghau', city=\"Pokhara\", district='Kaski', zip='33700')"
   ]
  },
  {
   "cell_type": "code",
   "execution_count": 99,
   "metadata": {},
   "outputs": [
    {
     "name": "stdout",
     "output_type": "stream",
     "text": [
      "Dr. Spongebob Squarepants III \n",
      "123 Fake St. 342\n"
     ]
    }
   ],
   "source": [
    "def shipping_label(*args, **kwargs):\n",
    "    for arg in args:\n",
    "        print(arg, end=\" \")\n",
    "    print()\n",
    "\n",
    "    if 'apt' in kwargs:\n",
    "        print(f'{kwargs.get('street')} {kwargs.get('apt')}')\n",
    "    else:\n",
    "        print(f'{kwargs.get('street')}')\n",
    "\n",
    "shipping_label('Dr.', 'Spongebob', 'Squarepants', 'III',\n",
    "               street = \"123 Fake St.\",\n",
    "               apt = '342',\n",
    "               city='Pokhara')\n"
   ]
  },
  {
   "cell_type": "markdown",
   "metadata": {},
   "source": [
    "<h4>Iterable</h4>\n",
    "<p> An object/collection that can return it's elements one at a time, allowing it to be iterated over in a loop"
   ]
  },
  {
   "cell_type": "code",
   "execution_count": 101,
   "metadata": {},
   "outputs": [
    {
     "name": "stdout",
     "output_type": "stream",
     "text": [
      "5\n",
      "4\n",
      "3\n",
      "2\n",
      "1\n"
     ]
    }
   ],
   "source": [
    "numbers = [1, 2, 3, 4, 5]\n",
    "\n",
    "for number in reversed(numbers):\n",
    "    print(number)"
   ]
  },
  {
   "cell_type": "code",
   "execution_count": 108,
   "metadata": {},
   "outputs": [
    {
     "name": "stdout",
     "output_type": "stream",
     "text": [
      "A: 1\n",
      "B: 2\n",
      "C: 3\n"
     ]
    }
   ],
   "source": [
    "my_dictionary = {'A': 1,\n",
    "                 'B': 2,\n",
    "                 'C': 3}\n",
    "\n",
    "for key, value in my_dictionary.items():\n",
    "    print(f'{key}: {value}')"
   ]
  },
  {
   "cell_type": "markdown",
   "metadata": {},
   "source": [
    "<h4>Membership Operators</h4>\n",
    "<p> Used to test whether a value or variable is found in a sequence (string, list, tuple, set or dictionary)\n",
    "<p>1. in\n",
    "<p>2. not in"
   ]
  },
  {
   "cell_type": "code",
   "execution_count": 112,
   "metadata": {},
   "outputs": [
    {
     "name": "stdout",
     "output_type": "stream",
     "text": [
      "G was not found\n"
     ]
    }
   ],
   "source": [
    "word = \"APPLE\"\n",
    "\n",
    "letter = input('Guess a letter in the secret word: ').upper()\n",
    "\n",
    "if letter in word:\n",
    "    print(f'There is a {letter}')\n",
    "else:\n",
    "    print(f'{letter} was not found')"
   ]
  },
  {
   "cell_type": "code",
   "execution_count": 117,
   "metadata": {},
   "outputs": [
    {
     "name": "stdout",
     "output_type": "stream",
     "text": [
      "Larry was not found\n"
     ]
    }
   ],
   "source": [
    "students = {'Spongebob', 'Patrick', 'Sandy'}\n",
    "\n",
    "student = input('Enter the name of a student: ').capitalize()\n",
    "\n",
    "if student in students:\n",
    "    print(f'{student} is a student')\n",
    "else:\n",
    "    print(f'{student} was not found')"
   ]
  },
  {
   "cell_type": "code",
   "execution_count": 120,
   "metadata": {},
   "outputs": [
    {
     "name": "stdout",
     "output_type": "stream",
     "text": [
      "Squidward's grade is B\n"
     ]
    }
   ],
   "source": [
    "grades = {\n",
    "    'Sandy': 'A',\n",
    "    'Squidward': 'B',\n",
    "    'Spongebob': 'C'}\n",
    "\n",
    "student = input('Enter the name of a student: ').capitalize()\n",
    "\n",
    "if student in grades:\n",
    "    print(f\"{student}'s grade is {grades[student]}\")\n",
    "else:\n",
    "    print(f'{student} was not found')\n"
   ]
  },
  {
   "cell_type": "code",
   "execution_count": 121,
   "metadata": {},
   "outputs": [
    {
     "name": "stdout",
     "output_type": "stream",
     "text": [
      "Valid email\n"
     ]
    }
   ],
   "source": [
    "email = 'anu.xyz234@gmail.com'\n",
    "\n",
    "if '@' in email and '.' in email:\n",
    "    print('Valid email')\n",
    "else:\n",
    "    print('Invalid email')"
   ]
  },
  {
   "cell_type": "markdown",
   "metadata": {},
   "source": [
    "<h4>List Comprehension</h4>\n",
    "<p> A concise way to create lists in Python\n",
    "<p> Compact and easier to read than traditional loops\n",
    "<p>[ expression for value in iterable if condition]"
   ]
  },
  {
   "cell_type": "code",
   "execution_count": 129,
   "metadata": {},
   "outputs": [
    {
     "name": "stdout",
     "output_type": "stream",
     "text": [
      "[2, 4, 6, 8, 10, 12, 14, 16, 18, 20]\n",
      "[3, 6, 9, 12, 15, 18, 21, 24, 27, 30]\n",
      "[1, 4, 9, 16, 25, 36, 49, 64, 81, 100]\n"
     ]
    }
   ],
   "source": [
    "doubles = [x * 2 for x in range(1, 11)]\n",
    "triples = [x * 3 for x in range(1, 11)]\n",
    "squares = [pow(x, 2) for x in range(1, 11)]\n",
    "\n",
    "print(doubles)\n",
    "print(triples)\n",
    "print(squares)"
   ]
  },
  {
   "cell_type": "code",
   "execution_count": 131,
   "metadata": {},
   "outputs": [
    {
     "name": "stdout",
     "output_type": "stream",
     "text": [
      "['APPLE', 'ORANGE', 'BANANA', 'COCONUT']\n"
     ]
    }
   ],
   "source": [
    "fruits = ['apple', 'orange', 'banana', 'coconut']\n",
    "fruits = [fruit.upper() for fruit in fruits]\n",
    "\n",
    "print(fruits)"
   ]
  },
  {
   "cell_type": "code",
   "execution_count": 133,
   "metadata": {},
   "outputs": [
    {
     "name": "stdout",
     "output_type": "stream",
     "text": [
      "[1, 3, 5]\n",
      "[-2, -4, -6]\n",
      "[-2, -4, -6]\n"
     ]
    }
   ],
   "source": [
    "numbers = [1, -2, 3, -4, 5, -6]\n",
    "positive_nums = [num for num in numbers if num >=0]\n",
    "negative_nums = [num for num in numbers if num < 0]\n",
    "even_nums = [num for num in numbers if num % 2==0]\n",
    "\n",
    "print(positive_nums)\n",
    "print(negative_nums)\n",
    "print(even_nums)"
   ]
  },
  {
   "cell_type": "code",
   "execution_count": 134,
   "metadata": {},
   "outputs": [
    {
     "name": "stdout",
     "output_type": "stream",
     "text": [
      "[85, 79, 90, 61]\n"
     ]
    }
   ],
   "source": [
    "grades = [85, 42, 79, 90, 56, 61, 30]\n",
    "\n",
    "passing_grades = [grade for grade in grades if grade >= 60]\n",
    "\n",
    "print(passing_grades)"
   ]
  },
  {
   "cell_type": "markdown",
   "metadata": {},
   "source": [
    "<h4>Match-case Statements (switch)</h4>\n",
    "<p> An alternative to using many 'elif' statements\n",
    "<p> Execute some code if a value matches a 'case'\n",
    "<p> Benefits: cleaner and syntax is more readable"
   ]
  },
  {
   "cell_type": "code",
   "execution_count": 137,
   "metadata": {},
   "outputs": [
    {
     "name": "stdout",
     "output_type": "stream",
     "text": [
      "It is Monday\n"
     ]
    }
   ],
   "source": [
    "def day_of_week(day):\n",
    "    match day:\n",
    "        case 1:\n",
    "            return 'It is Sunday'\n",
    "        case 2: \n",
    "            return 'It is Monday'\n",
    "        case 3:\n",
    "            return 'It is Tuesday'\n",
    "        case 4:\n",
    "            return 'It is Wednesday'\n",
    "        case 5:\n",
    "            return 'It is Thursday'\n",
    "        case 6:\n",
    "            return 'It is Friday'\n",
    "        case 7:\n",
    "            return 'It is Saturday'\n",
    "        case _:\n",
    "            return 'Not a valid day'\n",
    "        \n",
    "print(day_of_week(2))\n",
    "    "
   ]
  },
  {
   "cell_type": "code",
   "execution_count": 139,
   "metadata": {},
   "outputs": [
    {
     "name": "stdout",
     "output_type": "stream",
     "text": [
      "True\n"
     ]
    }
   ],
   "source": [
    "def is_weekend(day):\n",
    "    match day:\n",
    "        case 'Saturday' | 'Sunday':\n",
    "            return True\n",
    "        case 'Monday' | 'Tuesday' | 'Wednesday' | 'Thursday':\n",
    "            return False\n",
    "        case _:\n",
    "            return 'Not a valid day'\n",
    "        \n",
    "print(is_weekend('Sunday'))"
   ]
  },
  {
   "cell_type": "markdown",
   "metadata": {},
   "source": [
    "<h4>Module</h4>\n",
    "<p> A file containing code you want to include in your program \n",
    "<p> Use 'import' to include a module (built-in or your own)\n",
    "<p> Useful to break up a large program reusable separate files"
   ]
  },
  {
   "cell_type": "code",
   "execution_count": 141,
   "metadata": {},
   "outputs": [
    {
     "name": "stdout",
     "output_type": "stream",
     "text": [
      "\n",
      "Please wait a moment while I gather a list of all available modules...\n",
      "\n",
      "DbgPlugInDiggers    base64              jupyter             requests_ftp\n",
      "IPython             bdb                 jupyter_client      requests_oauthlib\n",
      "PIL                 binascii            jupyter_console     resource\n",
      "UICommon            bisect              jupyter_core        rfc3339_validator\n",
      "VBoxAuth            bleach              jupyter_events      rfc3986_validator\n",
      "VBoxAuthSimple      blivet              jupyter_lsp         rich\n",
      "VBoxDD              blivetgui           jupyter_server      rlcompleter\n",
      "VBoxDD2             boto3               jupyter_server_terminals rpds\n",
      "VBoxDDU             botocore            jupyterlab          rpm\n",
      "VBoxDbg             brlapi              jupyterlab_pygments runpy\n",
      "VBoxDragAndDropSvc  bs4                 jupyterlab_server   s3transfer\n",
      "VBoxDxVk            builtins            jupyterlab_widgets  satyr\n",
      "VBoxGuestControlSvc bytesize            jwt                 scanext\n",
      "VBoxGuestPropSvc    bz2                 keyword             sched\n",
      "VBoxHeadless        cProfile            kiwisolver          scipy\n",
      "VBoxHostChannel     cairo               langtable           seaborn\n",
      "VBoxKeyboard        calendar            lib2to3             secrets\n",
      "VBoxLibSsh          capng               libcomps            select\n",
      "VBoxNetDHCP         certifi             libdnf              selectors\n",
      "VBoxNetNAT          cffi                libmount            selenium\n",
      "VBoxPython3         cgi                 libvboxjxpcom       selinux\n",
      "VBoxPython3m        cgitb               libvirt             semanage\n",
      "VBoxRT              charset_normalizer  libvirt_lxc         send2trash\n",
      "VBoxSVGA3D          chunk               libvirt_qemu        seobject\n",
      "VBoxSharedClipboard click               libvirtaio          sepolgen\n",
      "VBoxSharedFolders   cmath               libvirtmod          sepolicy\n",
      "VBoxVMM             cmd                 libvirtmod_lxc      setools\n",
      "VBoxXPCOM           code                libvirtmod_qemu     setproctitle\n",
      "VBoxXPCOMC          codecs              libxml2             setuptools\n",
      "VirtualBoxVM        codeop              libxml2mod          shellingham\n",
      "__future__          collections         linecache           shelve\n",
      "__hello__           colorama            liquidctl           shlex\n",
      "_abc                colorlog            locale              shutil\n",
      "_aix_support        colorsys            logging             signal\n",
      "_argon2_cffi_bindings comm                louis               simpleaudio\n",
      "_ast                compileall          lvmdbusd            simpleline\n",
      "_asyncio            concurrent          lxml                site\n",
      "_audit              configparser        lzma                six\n",
      "_bisect             contextlib          magic               sklearn\n",
      "_blake2             contextvars         mailbox             smbus\n",
      "_bz2                contourpy           mailcap             smtplib\n",
      "_capng              coolercontrol_liqctld markdown_it         sndhdr\n",
      "_cffi_backend       copy                markupsafe          sniffio\n",
      "_codecs             copyreg             marshal             socket\n",
      "_codecs_cn          crcmod              math                socketserver\n",
      "_codecs_hk          crispy_forms        matplotlib          socks\n",
      "_codecs_iso2022     crypt               matplotlib_inline   sockshandler\n",
      "_codecs_jp          csv                 mdurl               sortedcontainers\n",
      "_codecs_kr          ctypes              meh                 sos\n",
      "_codecs_tw          cupsext             mimetypes           soupsieve\n",
      "_collections        curses              mistune             speechd\n",
      "_collections_abc    cycler              mmap                speechd_config\n",
      "_compat_pickle      dasbus              modulefinder        spwd\n",
      "_compression        dataclasses         mpmath              sqlite3\n",
      "_contextvars        datetime            multipart           sqlparse\n",
      "_crypt              dateutil            multiprocessing     sre_compile\n",
      "_csv                dbm                 nbclient            sre_constants\n",
      "_ctypes             dbus                nbconvert           sre_parse\n",
      "_curses             debugpy             nbformat            ssl\n",
      "_curses_panel       decimal             nest_asyncio        stack_data\n",
      "_datetime           decorator           netrc               starlette\n",
      "_dbm                defusedxml          networkx            stat\n",
      "_dbus_bindings      difflib             nftables            statistics\n",
      "_dbus_glib_bindings dis                 nis                 storages\n",
      "_decimal            distro              nntplib             string\n",
      "_distutils_hack     dj_database_url     notebook            stringprep\n",
      "_elementtree        django              notebook_shim       stripe\n",
      "_functools          django_countries    ntpath              struct\n",
      "_gdbm               django_pandas       nturl2path          subprocess\n",
      "_hashlib            dnf                 numbers             sunau\n",
      "_heapq              dnfpluginscore      numpy               sympy\n",
      "_imp                dns                 nvidia              symtable\n",
      "_io                 docopt              oauthlib            sys\n",
      "_json               doctest             olefile             sysconfig\n",
      "_locale             dotenv              opcode              syslog\n",
      "_lsprof             drv_libxml2         openid              systemd\n",
      "_lzma               email               operator            tabnanny\n",
      "_markupbase         email_validator     optparse            tarfile\n",
      "_md5                enchant             orca                telnetlib\n",
      "_multibytecodec     encodings           os                  tempfile\n",
      "_multiprocessing    ensurepip           ossaudiodev         terminado\n",
      "_opcode             enum                outcome             termios\n",
      "_operator           errno               overrides           textwrap\n",
      "_osx_support        executing           packaging           this\n",
      "_ped                fastapi             pam                 threading\n",
      "_pickle             fastapi_cli         pandas              threadpoolctl\n",
      "_posixshmem         fastjsonschema      pandocfilters       time\n",
      "_posixsubprocess    faulthandler        parso               timeit\n",
      "_py_abc             fcntl               parted              tinycss2\n",
      "_pydatetime         fedora_third_party  pathlib             tkinter\n",
      "_pydecimal          filecmp             pdb                 token\n",
      "_pyio               fileinput           pexpect             tokenize\n",
      "_pylong             filelock            pickle              tomllib\n",
      "_queue              firewall            pickletools         tornado\n",
      "_random             fnmatch             pid                 trace\n",
      "_selinux            fontTools           pip                 traceback\n",
      "_semanage           fqdn                pipes               tracemalloc\n",
      "_sha1               fractions           pkg_resources       traitlets\n",
      "_sha2               fsspec              pkgutil             trio\n",
      "_sha3               ftplib              platform            trio_websocket\n",
      "_signal             functools           platformdirs        triton\n",
      "_sitebuiltins       gc                  plistlib            tty\n",
      "_socket             genericpath         ply                 turtle\n",
      "_sqlite3            getopt              poplib              turtledemo\n",
      "_sre                getpass             posix               typer\n",
      "_ssl                gettext             posixpath           types\n",
      "_stat               gi                  pprint              typing\n",
      "_statistics         glob                problem             typing_extensions\n",
      "_string             gnome_abrt          productmd           tzdata\n",
      "_strptime           gnome_browser_connector profile             unbound\n",
      "_struct             graphlib            prometheus_client   unboundmodule\n",
      "_symtable           grp                 prompt_toolkit      unicodedata\n",
      "_sysconfigdata__linux_x86_64-linux-gnu gtweak              pstats              unittest\n",
      "_thread             gunicorn            psutil              uri_template\n",
      "_threading_local    gzip                pty                 urllib\n",
      "_tkinter            h11                 ptyprocess          urllib3\n",
      "_tokenize           hashlib             pure_eval           usb\n",
      "_tracemalloc        hawkey              pwd                 uu\n",
      "_typing             heapq               pwquality           uuid\n",
      "_unbound            hid                 py_compile          uvicorn\n",
      "_uuid               hidraw              pyanaconda          uvloop\n",
      "_warnings           hmac                pyatspi             vboxapi\n",
      "_weakref            hpmudext            pyclbr              vboxshell\n",
      "_weakrefset         html                pycparser           venv\n",
      "_yaml               http                pydantic            warnings\n",
      "_zoneinfo           httpcore            pydantic_core       watchfiles\n",
      "abc                 httptools           pydoc               wave\n",
      "abrt_exception_handler3 httpx               pydoc_data          wcwidth\n",
      "abrtcli             humanize            pyexpat             weakref\n",
      "aifc                idna                pyfros              webbrowser\n",
      "allauth             imaplib             pygments            webcolors\n",
      "annotated_types     imghdr              pygtkcompat         webdriver_manager\n",
      "antigravity         importlib           pykickstart         webencodings\n",
      "anyio               inspect             pylab               websocket\n",
      "argcomplete         io                  pyparsing           websockets\n",
      "argon2              ipaddress           pythonjsonlogger    widgetsnbextension\n",
      "argparse            ipykernel           pytz                wsgiref\n",
      "array               ipykernel_launcher  pyudev              wsproto\n",
      "arrow               ipywidgets          qtconsole           xdg\n",
      "asgiref             iso639              qtpy                xdrlib\n",
      "ast                 isoduration         queue               xkbregistry\n",
      "asttokens           isympy              quopri              xml\n",
      "async_lru           itertools           random              xmlrpc\n",
      "asyncio             jedi                re                  yaml\n",
      "atexit              jinja2              readline            zipapp\n",
      "attr                jmespath            referencing         zipfile\n",
      "attrs               joblib              regex               zipimport\n",
      "audioop             json                report              zlib\n",
      "audit               json5               reportclient        zmq\n",
      "augeas              jsonpointer         reprlib             zoneinfo\n",
      "auparse             jsonschema          requests            \n",
      "babel               jsonschema_specifications requests_file       \n",
      "\n",
      "Enter any module name to get more help.  Or, type \"modules spam\" to search\n",
      "for modules whose name or summary contain the string \"spam\".\n",
      "\n",
      "None\n"
     ]
    }
   ],
   "source": [
    "print(help('modules'))"
   ]
  },
  {
   "cell_type": "code",
   "execution_count": 153,
   "metadata": {},
   "outputs": [
    {
     "name": "stdout",
     "output_type": "stream",
     "text": [
      "3.14159\n",
      "9\n",
      "27\n",
      "18.849539999999998\n",
      "28.27431\n"
     ]
    }
   ],
   "source": [
    "import custom_module\n",
    "# from math import pi\n",
    "\n",
    "print(custom_module.pi)\n",
    "\n",
    "result = custom_module.square(3)\n",
    "print(result)\n",
    "\n",
    "result = custom_module.cube(3)\n",
    "print(result)\n",
    "\n",
    "result = custom_module.circumference(3)\n",
    "print(result)\n",
    "\n",
    "result = custom_module.area(3)\n",
    "print(result)"
   ]
  },
  {
   "cell_type": "markdown",
   "metadata": {},
   "source": [
    "<p><b>Variable Scope</b>: Where a variable is visible and accessible </p>\n",
    "<p><b>Scope Resolutioin</b>: (LEGB) Local -> Enclosed -> Global -> Built-in</p>"
   ]
  },
  {
   "cell_type": "code",
   "execution_count": 156,
   "metadata": {},
   "outputs": [
    {
     "name": "stdout",
     "output_type": "stream",
     "text": [
      "1\n",
      "2\n"
     ]
    }
   ],
   "source": [
    "def func1():\n",
    "    a = 1\n",
    "    print(a) # cannot print b\n",
    "\n",
    "def func2():\n",
    "    b = 2\n",
    "    print(b) # cannot print a\n",
    "\n",
    "func1()\n",
    "func2()"
   ]
  },
  {
   "cell_type": "code",
   "execution_count": null,
   "metadata": {},
   "outputs": [],
   "source": []
  }
 ],
 "metadata": {
  "kernelspec": {
   "display_name": "Python 3",
   "language": "python",
   "name": "python3"
  },
  "language_info": {
   "codemirror_mode": {
    "name": "ipython",
    "version": 3
   },
   "file_extension": ".py",
   "mimetype": "text/x-python",
   "name": "python",
   "nbconvert_exporter": "python",
   "pygments_lexer": "ipython3",
   "version": "3.12.6"
  }
 },
 "nbformat": 4,
 "nbformat_minor": 2
}
