{
 "cells": [
  {
   "cell_type": "markdown",
   "metadata": {},
   "source": [
    "<h4>For Loop</h4>\n",
    "<p>Execute a block of code a fixed number of times.</p>\n",
    "<p>You can iterate over a range, string, sequence, etc"
   ]
  },
  {
   "cell_type": "code",
   "execution_count": 4,
   "metadata": {},
   "outputs": [
    {
     "name": "stdout",
     "output_type": "stream",
     "text": [
      "10\n",
      "9\n",
      "8\n",
      "7\n",
      "6\n",
      "5\n",
      "4\n",
      "3\n",
      "2\n",
      "1\n",
      "HAPPY NEW YEAR!\n"
     ]
    }
   ],
   "source": [
    "for x in reversed(range(1, 11)):\n",
    "    print(x)\n",
    "\n",
    "print('HAPPY NEW YEAR!')"
   ]
  },
  {
   "cell_type": "code",
   "execution_count": 5,
   "metadata": {},
   "outputs": [
    {
     "name": "stdout",
     "output_type": "stream",
     "text": [
      "1\n",
      "2\n",
      "3\n",
      "4\n",
      "-\n",
      "5\n",
      "6\n",
      "7\n",
      "8\n",
      "-\n",
      "9\n",
      "0\n",
      "1\n",
      "2\n",
      "-\n",
      "3\n",
      "4\n",
      "5\n",
      "6\n"
     ]
    }
   ],
   "source": [
    "credit_card = \"1234-5678-9012-3456\"\n",
    "\n",
    "for x in credit_card:\n",
    "    print(x)"
   ]
  },
  {
   "cell_type": "code",
   "execution_count": 9,
   "metadata": {},
   "outputs": [
    {
     "name": "stdout",
     "output_type": "stream",
     "text": [
      "1\n",
      "2\n",
      "3\n",
      "4\n",
      "5\n",
      "6\n",
      "7\n",
      "8\n",
      "9\n",
      "10\n",
      "11\n",
      "12\n",
      "14\n",
      "15\n"
     ]
    }
   ],
   "source": [
    "for x in range(1, 16):\n",
    "    if x == 13:\n",
    "        continue # skip\n",
    "        #break # out of the loop\n",
    "    else:\n",
    "        print(x)"
   ]
  },
  {
   "cell_type": "markdown",
   "metadata": {},
   "source": [
    "<h4>Nested Loop</h4>\n",
    "<p>A loop within another loop (outer, inner)"
   ]
  },
  {
   "cell_type": "code",
   "execution_count": 12,
   "metadata": {},
   "outputs": [
    {
     "name": "stdout",
     "output_type": "stream",
     "text": [
      "1 2 3 4 5 6 7 8 9 \n",
      "1 2 3 4 5 6 7 8 9 \n",
      "1 2 3 4 5 6 7 8 9 \n"
     ]
    }
   ],
   "source": [
    "for x in range(3):\n",
    "    for y in range(1,10):\n",
    "        print(y, end=\" \")\n",
    "    print()"
   ]
  },
  {
   "cell_type": "code",
   "execution_count": 15,
   "metadata": {},
   "outputs": [
    {
     "name": "stdout",
     "output_type": "stream",
     "text": [
      "@@@@\n",
      "@@@@\n",
      "@@@@\n"
     ]
    }
   ],
   "source": [
    "rows = int(input('Enter the number of rows: '))\n",
    "columns = int(input('Enter the number of columns: '))\n",
    "symbol = input('Enter the symbol to use: ')\n",
    "\n",
    "for x in range(rows):\n",
    "    for y in range(columns):\n",
    "        print(symbol, end='')\n",
    "    print()"
   ]
  },
  {
   "cell_type": "markdown",
   "metadata": {},
   "source": [
    "<h4>Collection:</h4>\n",
    "<p>Single \"variable\" used to store multiple values\n",
    "<p> 1. List = [] ordered and changeable. Duplicates OK\n",
    "<p> 2. Set = {} unordered and immutable, but Add/Remove OK. NO duplicates\n",
    "<p> 3. Tuple = () ordered and unchangeable. Duplicates OK. Faster"
   ]
  },
  {
   "cell_type": "code",
   "execution_count": 34,
   "metadata": {},
   "outputs": [
    {
     "name": "stdout",
     "output_type": "stream",
     "text": [
      "['__add__', '__class__', '__class_getitem__', '__contains__', '__delattr__', '__delitem__', '__dir__', '__doc__', '__eq__', '__format__', '__ge__', '__getattribute__', '__getitem__', '__getstate__', '__gt__', '__hash__', '__iadd__', '__imul__', '__init__', '__init_subclass__', '__iter__', '__le__', '__len__', '__lt__', '__mul__', '__ne__', '__new__', '__reduce__', '__reduce_ex__', '__repr__', '__reversed__', '__rmul__', '__setattr__', '__setitem__', '__sizeof__', '__str__', '__subclasshook__', 'append', 'clear', 'copy', 'count', 'extend', 'index', 'insert', 'pop', 'remove', 'reverse', 'sort']\n",
      "apple\n",
      "orange\n",
      "banana\n",
      "coconut\n",
      "4\n",
      "True\n",
      "['pineapple', 'orange', 'banana', 'coconut']\n",
      "['pineapple', 'orange', 'banana', 'coconut', 'apple']\n",
      "['pineapple', 'orange', 'banana', 'coconut']\n",
      "['apple', 'pineapple', 'orange', 'banana', 'coconut']\n",
      "['apple', 'banana', 'coconut', 'orange', 'pineapple']\n",
      "['pineapple', 'orange', 'coconut', 'banana', 'apple']\n",
      "4\n",
      "1\n",
      "['pineapple', 'orange', 'coconut', 'banana', 'apple']\n"
     ]
    }
   ],
   "source": [
    "# List\n",
    "fruits = ['apple', 'orange', 'banana', 'coconut']\n",
    "\n",
    "print(dir(fruits))\n",
    "\n",
    "for fruit in fruits:\n",
    "    print(fruit)\n",
    "\n",
    "print(len(fruits))\n",
    "print('apple' in fruits)\n",
    "\n",
    "fruits[0] = \"pineapple\"\n",
    "print(fruits)\n",
    "\n",
    "fruits.append('apple')\n",
    "print(fruits)\n",
    "\n",
    "fruits.remove('apple')\n",
    "print(fruits)\n",
    "\n",
    "fruits.insert(0, 'apple')\n",
    "print(fruits)\n",
    "\n",
    "fruits.sort()\n",
    "print(fruits)\n",
    "\n",
    "fruits.reverse()\n",
    "print(fruits)\n",
    "\n",
    "# fruits.clear()\n",
    "\n",
    "print(fruits.index('apple'))\n",
    "\n",
    "print(fruits.count('banana'))\n",
    "\n",
    "print(fruits)"
   ]
  },
  {
   "cell_type": "code",
   "execution_count": 45,
   "metadata": {},
   "outputs": [
    {
     "name": "stdout",
     "output_type": "stream",
     "text": [
      "['__and__', '__class__', '__class_getitem__', '__contains__', '__delattr__', '__dir__', '__doc__', '__eq__', '__format__', '__ge__', '__getattribute__', '__getstate__', '__gt__', '__hash__', '__iand__', '__init__', '__init_subclass__', '__ior__', '__isub__', '__iter__', '__ixor__', '__le__', '__len__', '__lt__', '__ne__', '__new__', '__or__', '__rand__', '__reduce__', '__reduce_ex__', '__repr__', '__ror__', '__rsub__', '__rxor__', '__setattr__', '__sizeof__', '__str__', '__sub__', '__subclasshook__', '__xor__', 'add', 'clear', 'copy', 'difference', 'difference_update', 'discard', 'intersection', 'intersection_update', 'isdisjoint', 'issubset', 'issuperset', 'pop', 'remove', 'symmetric_difference', 'symmetric_difference_update', 'union', 'update']\n",
      "{'banana', 'coconut', 'pineapple', 'orange', 'apple'}\n",
      "{'banana', 'coconut', 'pineapple', 'orange'}\n",
      "{'coconut', 'pineapple', 'orange'}\n",
      "set()\n"
     ]
    }
   ],
   "source": [
    "fruits = {'apple', 'orange', 'banana', 'coconut'}\n",
    "print(dir(fruits))\n",
    "\n",
    "fruits.add('pineapple')\n",
    "print(fruits)\n",
    "\n",
    "fruits.remove('apple')\n",
    "print(fruits)\n",
    "\n",
    "fruits.pop()\n",
    "print(fruits)\n",
    "\n",
    "fruits.clear()\n",
    "print(fruits)"
   ]
  },
  {
   "cell_type": "code",
   "execution_count": 51,
   "metadata": {},
   "outputs": [
    {
     "name": "stdout",
     "output_type": "stream",
     "text": [
      "('apple', 'orange', 'banana', 'coconut', 'coconut')\n",
      "5\n",
      "False\n",
      "0\n",
      "2\n"
     ]
    }
   ],
   "source": [
    "fruits = ('apple', 'orange', 'banana', 'coconut', 'coconut')\n",
    "print(fruits)\n",
    "\n",
    "print(len(fruits))\n",
    "print(\"pineapple\" in fruits)\n",
    "\n",
    "print(fruits.index('apple'))\n",
    "print(fruits.count('coconut'))"
   ]
  },
  {
   "cell_type": "code",
   "execution_count": null,
   "metadata": {},
   "outputs": [],
   "source": []
  }
 ],
 "metadata": {
  "kernelspec": {
   "display_name": "Python 3",
   "language": "python",
   "name": "python3"
  },
  "language_info": {
   "codemirror_mode": {
    "name": "ipython",
    "version": 3
   },
   "file_extension": ".py",
   "mimetype": "text/x-python",
   "name": "python",
   "nbconvert_exporter": "python",
   "pygments_lexer": "ipython3",
   "version": "3.12.6"
  }
 },
 "nbformat": 4,
 "nbformat_minor": 2
}
