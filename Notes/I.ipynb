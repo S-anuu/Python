{
 "cells": [
  {
   "cell_type": "markdown",
   "metadata": {},
   "source": [
    "<h4>Variables:</h4>\n",
    "<p> A container for a value ( string, integer, float, boolean ). A variable behaves as if it was the value it contains."
   ]
  },
  {
   "cell_type": "code",
   "execution_count": 14,
   "metadata": {},
   "outputs": [
    {
     "name": "stdout",
     "output_type": "stream",
     "text": [
      "Hello Sam! Do you love pizza ?\n"
     ]
    }
   ],
   "source": [
    "# Strings\n",
    "\n",
    "name = \"Sam\"\n",
    "food = \"pizza\"\n",
    "print(f'Hello {name}! Do you love {food} ?')"
   ]
  },
  {
   "cell_type": "code",
   "execution_count": 15,
   "metadata": {},
   "outputs": [
    {
     "name": "stdout",
     "output_type": "stream",
     "text": [
      "You're 22 years old\n",
      "You're buying 3 items\n"
     ]
    }
   ],
   "source": [
    "# Integers\n",
    "\n",
    "age = 22\n",
    "quantitiy = 3\n",
    "\n",
    "print(f\"You're {age} years old\")\n",
    "print(f\"You're buying {quantitiy} items\")\n"
   ]
  },
  {
   "cell_type": "code",
   "execution_count": 16,
   "metadata": {},
   "outputs": [
    {
     "name": "stdout",
     "output_type": "stream",
     "text": [
      "The price of the cup is Rs. 10.33\n",
      "Your gpa is: 3.5\n"
     ]
    }
   ],
   "source": [
    "# Float\n",
    "\n",
    "price = 10.33\n",
    "gpa = 3.5\n",
    "\n",
    "print(f'The price of the cup is Rs. {price}')\n",
    "print(f'Your gpa is: {gpa}')"
   ]
  },
  {
   "cell_type": "code",
   "execution_count": 17,
   "metadata": {},
   "outputs": [
    {
     "name": "stdout",
     "output_type": "stream",
     "text": [
      "You're a student\n"
     ]
    }
   ],
   "source": [
    "# Boolean\n",
    "\n",
    "is_student = True\n",
    "\n",
    "if is_student:\n",
    "    print(\"You're a student\")\n",
    "else:\n",
    "    print(\"You're not a student\")"
   ]
  },
  {
   "cell_type": "markdown",
   "metadata": {},
   "source": [
    "<h4>Typecasting:</h4>\n",
    "<p>It is the process of converting a variable from one data type to another str(), int(), float(), bool()</p>"
   ]
  },
  {
   "cell_type": "code",
   "execution_count": 18,
   "metadata": {},
   "outputs": [
    {
     "name": "stdout",
     "output_type": "stream",
     "text": [
      "<class 'int'>\n",
      "<class 'float'>\n"
     ]
    }
   ],
   "source": [
    "print(type(age))\n",
    "print(type(gpa))"
   ]
  },
  {
   "cell_type": "code",
   "execution_count": 22,
   "metadata": {},
   "outputs": [
    {
     "name": "stdout",
     "output_type": "stream",
     "text": [
      "<class 'str'>\n",
      "<class 'int'>\n",
      "<class 'bool'>\n",
      "True\n"
     ]
    }
   ],
   "source": [
    "age = str(age)\n",
    "print(type(age))\n",
    "\n",
    "gpa = int(gpa)\n",
    "print(type(gpa))\n",
    "\n",
    "name = bool(name)\n",
    "print(type(name))\n",
    "print(name)"
   ]
  },
  {
   "cell_type": "markdown",
   "metadata": {},
   "source": [
    "<h4>Input:</h4>\n",
    "<p> A function that prompts the user to enter data. It returns the entered data as a string</p>"
   ]
  },
  {
   "cell_type": "code",
   "execution_count": 30,
   "metadata": {},
   "outputs": [
    {
     "name": "stdout",
     "output_type": "stream",
     "text": [
      "Hello ANU!\n",
      "HAPPY BIRTHDAY!!\n",
      "You are 5 years old.\n"
     ]
    }
   ],
   "source": [
    "name = input('What is your name?: ')\n",
    "age = int(input('How old are you?: '))\n",
    "\n",
    "age = age + 1\n",
    "\n",
    "print(f'Hello {name}!')\n",
    "print('HAPPY BIRTHDAY!!')\n",
    "print(f'You are {age} years old.')"
   ]
  },
  {
   "cell_type": "code",
   "execution_count": 34,
   "metadata": {},
   "outputs": [
    {
     "name": "stdout",
     "output_type": "stream",
     "text": [
      "The area of the rectangle is 20.0 cm^2\n"
     ]
    }
   ],
   "source": [
    "# Exercise 1:\n",
    "# Calculate the area of a rectangle\n",
    "\n",
    "length = float(input('Enter the length: '))\n",
    "width = float(input('Enter the width: '))\n",
    "\n",
    "area = length * width\n",
    "\n",
    "print(f'The area of the rectangle is {area} cm^2')"
   ]
  },
  {
   "cell_type": "code",
   "execution_count": 36,
   "metadata": {},
   "outputs": [
    {
     "name": "stdout",
     "output_type": "stream",
     "text": [
      "You have bought 3 x pizza/s\n",
      "Your total is: Rs.300.0\n"
     ]
    }
   ],
   "source": [
    "# Exercise 2:\n",
    "# Shopping Cart Program\n",
    "\n",
    "item = input('What item would you like to buy?: ')\n",
    "price = float(input('What is the price?: '))\n",
    "quantity = int(input('How many would you like?: '))\n",
    "total = price * quantity\n",
    "\n",
    "print(f'You have bought { quantitiy } x {item}/s')\n",
    "print(f\"Your total is: Rs.{total}\")"
   ]
  },
  {
   "cell_type": "code",
   "execution_count": 37,
   "metadata": {},
   "outputs": [
    {
     "name": "stdout",
     "output_type": "stream",
     "text": [
      "Today I went to a beautiful zoo.\n",
      "In an exhibit, I saw a Taylor\n",
      "Taylor was scary and dancing\n",
      "I was funny!\n"
     ]
    }
   ],
   "source": [
    "# Exercise 3:\n",
    "# Madlibs game: word game where you create a story by filling \n",
    "# in blanks with random words\n",
    "\n",
    "adjective1 = input('Enter an adjective (description): ')\n",
    "noun1 = input('Enter a noun ( person, place, thing: )')\n",
    "adjective2= input('Enter an adjective (description): ')\n",
    "verb1 = input('Enter a verb ending with \"ing\": ')\n",
    "adjective3 = input('Enter an adjective (description): ')\n",
    "\n",
    "print(f'Today I went to a {adjective1} zoo.')\n",
    "print(f'In an exhibit, I saw {noun1}')\n",
    "print(f'{noun1} was {adjective2} and {verb1}')\n",
    "print(f'I was {adjective3}!')"
   ]
  },
  {
   "cell_type": "markdown",
   "metadata": {},
   "source": [
    "<h4>Arithmetic Operations</h4>"
   ]
  },
  {
   "cell_type": "code",
   "execution_count": 45,
   "metadata": {},
   "outputs": [
    {
     "name": "stdout",
     "output_type": "stream",
     "text": [
      "3\n",
      "2\n",
      "4\n",
      "2.0\n",
      "0.0\n",
      "4.0\n"
     ]
    }
   ],
   "source": [
    "apples = 1\n",
    "\n",
    "apples += 2\n",
    "print(apples)\n",
    "\n",
    "apples -= 1\n",
    "print(apples)\n",
    "\n",
    "apples *= 2\n",
    "print(apples)\n",
    "\n",
    "apples /= 2\n",
    "print(apples)\n",
    "\n",
    "remaining = apples % 2\n",
    "print(remaining)\n",
    "\n",
    "apples **= 2\n",
    "print(apples)\n"
   ]
  },
  {
   "cell_type": "markdown",
   "metadata": {},
   "source": [
    "<h4> Built-in Mathematical Functions </h4>"
   ]
  },
  {
   "cell_type": "code",
   "execution_count": 51,
   "metadata": {},
   "outputs": [
    {
     "name": "stdout",
     "output_type": "stream",
     "text": [
      "3\n",
      "4\n",
      "16\n",
      "5\n",
      "-4\n"
     ]
    }
   ],
   "source": [
    "x = 3.14\n",
    "y = -4\n",
    "z = 5\n",
    "\n",
    "result = round(x)   # 3.14 -> 3\n",
    "print(result)\n",
    "\n",
    "result = abs(y)     # -4 -> 4\n",
    "print(result)\n",
    "\n",
    "result = pow(y, 2)  # -4, 2 -> 16\n",
    "print(result)\n",
    "\n",
    "result = max(x, y, z)\n",
    "print(result)\n",
    "\n",
    "result = min(x, y, z)\n",
    "print(result)"
   ]
  },
  {
   "cell_type": "code",
   "execution_count": 58,
   "metadata": {},
   "outputs": [
    {
     "name": "stdout",
     "output_type": "stream",
     "text": [
      "3.141592653589793\n",
      "2.718281828459045\n",
      "3.0\n",
      "4\n",
      "3\n"
     ]
    }
   ],
   "source": [
    "import math\n",
    "\n",
    "a = 9 \n",
    "x = 3.14\n",
    "\n",
    "result = math.pi   # 3.141592653589793\n",
    "print(result)\n",
    "\n",
    "result = math.e  # 2.718281828459045\n",
    "print(result)\n",
    "\n",
    "result = math.sqrt(a)  # 9 -> 3.0\n",
    "print(result)\n",
    "\n",
    "result = math.ceil(x) # 3.14 -> 4\n",
    "print(result)\n",
    "\n",
    "result = math.floor(x) # 3.14 -> 3\n",
    "print(result)"
   ]
  },
  {
   "cell_type": "code",
   "execution_count": 60,
   "metadata": {},
   "outputs": [
    {
     "name": "stdout",
     "output_type": "stream",
     "text": [
      "The circumference is: 25.13 cm\n"
     ]
    }
   ],
   "source": [
    "# Exercise 4:\n",
    "# Calculate the circumference of the circle\n",
    "\n",
    "radius = float(input('Enter the radius of the circle: '))\n",
    "\n",
    "circumference = 2 * math.pi * radius\n",
    "\n",
    "print(f'The circumference is: {round(circumference, 2)}cm')"
   ]
  },
  {
   "cell_type": "code",
   "execution_count": 63,
   "metadata": {},
   "outputs": [
    {
     "name": "stdout",
     "output_type": "stream",
     "text": [
      "The area of the cirlce is: 50.27 cm^2\n"
     ]
    }
   ],
   "source": [
    "# Exercise 5: \n",
    "# Calculate the area of the circle\n",
    "\n",
    "radius = float(input('Enter the radius of the circle: '))\n",
    "\n",
    "area = math.pi * pow(radius, 2)\n",
    "\n",
    "print(f'The area of the cirlce is: {round(area, 2)} cm^2')"
   ]
  },
  {
   "cell_type": "code",
   "execution_count": 64,
   "metadata": {},
   "outputs": [
    {
     "name": "stdout",
     "output_type": "stream",
     "text": [
      "The length of the hypotenuse is: 6.4cm\n"
     ]
    }
   ],
   "source": [
    "# Exercise 6: \n",
    "# Calculate the hypotenuse of a right angled triangle\n",
    "\n",
    "a = float(input('Enter the length of the side A: '))\n",
    "b = float(input('Enter the length of the side B: '))\n",
    "\n",
    "hypotenuse = math.sqrt(pow(a, 2) + pow(b, 2))\n",
    "\n",
    "print(f'The length of the hypotenuse is: {round(hypotenuse, 2)}cm')"
   ]
  }
 ],
 "metadata": {
  "kernelspec": {
   "display_name": "Python 3",
   "language": "python",
   "name": "python3"
  },
  "language_info": {
   "codemirror_mode": {
    "name": "ipython",
    "version": 3
   },
   "file_extension": ".py",
   "mimetype": "text/x-python",
   "name": "python",
   "nbconvert_exporter": "python",
   "pygments_lexer": "ipython3",
   "version": "3.12.6"
  }
 },
 "nbformat": 4,
 "nbformat_minor": 2
}
